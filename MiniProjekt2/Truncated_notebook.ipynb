{
 "cells": [
  {
   "cell_type": "markdown",
   "metadata": {},
   "source": [
    "# Building an MLP Language Model\n",
    "---\n",
    "\n",
    "This is an extended version of Andrej Karpathy's notebook in addition to his [Zero To Hero](https://karpathy.ai/zero-to-hero.html) video on MLP language models.\n",
    "\n",
    "Adapted by: \n",
    "\n",
    "Prof. Dr.-Ing. Antje Muntzinger, University of Applied Sciences Stuttgart\n",
    "\n",
    "antje.muntzinger@hft-stuttgart.de\n",
    "\n",
    "---\n",
    "\n",
    "**NOTE:** You may answer in English or German.\n",
    "\n",
    "\n",
    "# Table of Contents\n",
    "\n",
    "[1. Text Generation with Multi-Layer-Perceptrons](#1.-Text-Generation-with-Multi-Layer-Perceptrons)\n",
    "\n",
    "[2. Building the Dataset](#2.-Building-the-Dataset)\n",
    "\n",
    "[3. Implementing the Neural Net](#3.-Implementing-the-Neural-Net)\n",
    "\n",
    "[4. Training the MLP](#4.-Training-the-MLP)\n",
    "\n",
    "[5. Training on Mini-Batches](#5.-Training-on-Mini-Batches)\n",
    "\n",
    "[6. Tuning the Learning Rate](#6.-Tuning-the-Learning-Rate)\n",
    "\n",
    "[7. Train-Valid-Test-Split](#7.-Train-Valid-Test-Split)\n",
    "\n",
    "[8. Experiment: Larger Hidden Layer](#8.-Experiment:-Larger-Hidden-Layer)\n",
    "\n",
    "[9. Visualization of the Embedding](#9.-Visualization-of-the-Embedding)\n",
    "\n",
    "[10. Increasing the Embedding Dimension](#10.-Increasing-the-Embedding-Dimension)\n",
    "\n",
    "[11. Final Evaluation and Sampling from the Model](#11.-Final-Evaluation-and-Sampling-from-the-Model)\n",
    "\n",
    "[12. Challenge](#12.-Challenge)"
   ]
  },
  {
   "cell_type": "markdown",
   "metadata": {},
   "source": [
    "\n",
    "## 1. Text Generation with Multi-Layer-Perceptrons\n",
    "\n",
    "In the last notebook, we implemented a bigram language model in two versions: by counting the occurences of bigrams as well as by building a simple neural net with just a single layer. The problem with this approach is that if we are to take more context into account when predicting the next character in a sequence, things quickly blow up. For example, we had a 27x27 lookup table to predict the next token from the previous one. If we want to take the last 2 characters to predict the next, we already have a 27x27x27 lookup table, so the number of possible combinations grows exponentially with the length of the context. Therefore, we will explore a different approach here and implement a **Multi-Layer Perceptron (MLP)** following the 2003 paper\n",
    "[A Neural Probabilistic Language Model](https://www.youtube.com/redirect?event=video_description&redir_token=QUFFLUhqbW9DTXY3aXpoa2doT1JXclNpUTZIS1h6V1RNd3xBQ3Jtc0tsdHZ6aUs3ck94TU5MVkNwSXpQd0VvLUdMRjVadmt1eGpLMXlCMGVTWWJqa1VobU13dXRxamNTa09aYk5hc2hoN0pEeHNMM2hSbFRBaVZBeVFUay1TRmFvRzBIaGhFb21QdHlIVzFzX09rd1NIWEVuSQ&q=https%3A%2F%2Fwww.jmlr.org%2Fpapers%2Fvolume3%2Fbengio03a%2Fbengio03a.pdf&v=TCH_1BHY58I) by Bengio et al. This was not the first paper applying an MLP to generate text, but it was very influential and is a nice write-up. In the paper, they used a word level language model with a vocabulary of 17 000 possible words. We will still use a character level language model, but follow the paper other than that. \n",
    "\n",
    "The idea of the paper is the following: To each word, a thirty dimensional feature vector is associated, so every word gets **embedded** into a thirty dimensional space. So we have 17 000 points or vectors in a 30 dimensional space (that's very crowded!) Now in the beginning these words are initialized randomly so they're spread out at random, but then we're going to tune these embeddings of the words using backpropagation. So during the training of this neural network, these vectors are going to move around and words that have  similar meanings or that are synonyms end up in a similar part of the space. Conversely, words with different meaning would go somewhere else in the space. Their modeling approach otherwise is identical to ours: They are using a multi-layer neural network to predict the next word given the previous words, and for training they are maximizing the log likelihood of the training data.\n",
    "\n",
    "Why does this work? Suppose we want to complete the sentence \n",
    "\n",
    "    'A dog was running in a ...', \n",
    "    \n",
    "which has never occured in the training data, so we are **out of distribution**.  But maybe the network has seen the sentence\n",
    "\n",
    "    'The dog was running in a ...', \n",
    "\n",
    "and it has learned that 'a' and 'the' are frequently interchangeable, so it took the embeddings for 'a' and 'the' and put them nearby each other in the space. This is how the net can transfer knowledge through that embedding and generalize. Similarly, the network could know that cats and dogs are animals and they co-occur in lots of very similar contexts, and so even though you haven't seen this exact phrase, it can through the embedding space transfer knowledge and generalize to novel scenarios. Here is a nice visualization of embeddings (source: https://causewriter.ai/courses/ai-explainers/lessons/vector-embedding/):\n",
    "\n",
    "<img src=\"img/embeddings.png\" width=\"500\">\n"
   ]
  },
  {
   "cell_type": "markdown",
   "metadata": {},
   "source": [
    "\n",
    "Now let's take a closer look at the MLP:\n",
    "\n",
    "<img src=\"img/MLP.jpg\" width=\"600\">"
   ]
  },
  {
   "cell_type": "markdown",
   "metadata": {},
   "source": [
    "- *Input Layer:* Here, we are taking 3 previous words to predict the next word. The input is the index of the word, an integer between 0 and 16999 for 17 000 words. They use a lookup table C, a 17000x30 matrix, where every index is plucking out a row of this embedding matrix, so each index is converted to the 30 dimensional embedding vector for that word. The input layer consists of 30 neurons for three words making up 90 neurons in total. The matrix C is shared across all the words, so we're always indexing into the same matrix C over and over for each one of these words. \n",
    "\n",
    "- *Hidden Layer:* Then the data is processed to a hidden layer, where the size is a **hyperparameter** (a design choice up to the designer of the neural net), followed by a tanh nonlinearity. \n",
    "\n",
    "- *Output Layer:* Finally, the output layer consists of 17 000 neurons for all possible next words. So there are 17 000 logits followed by a softmax layer to calculate a probability distribution for the next word in the sequence. \n",
    "\n",
    "During training we have the label (=identity of the next word in a sequence), so we can pluck out the probability of that word and maximize the probability of that word with respect to the parameters of the neural net. The parameters that are optimized via backpropagation are the weights and biases of the output layer, the weights and biases of the hidden layer and the embedding lookup table C.\n",
    "\n",
    "Now let's implement this network!"
   ]
  },
  {
   "cell_type": "markdown",
   "metadata": {},
   "source": [
    "## 2. Building the Dataset"
   ]
  },
  {
   "cell_type": "code",
   "execution_count": 1,
   "metadata": {},
   "outputs": [],
   "source": [
    "import torch\n",
    "import torch.nn.functional as F\n",
    "import matplotlib.pyplot as plt # for making figures\n",
    "import random\n",
    "%matplotlib inline"
   ]
  },
  {
   "cell_type": "code",
   "execution_count": 2,
   "metadata": {},
   "outputs": [
    {
     "data": {
      "text/plain": [
       "['emma', 'olivia', 'ava', 'isabella', 'sophia', 'charlotte', 'mia', 'amelia']"
      ]
     },
     "execution_count": 2,
     "metadata": {},
     "output_type": "execute_result"
    }
   ],
   "source": [
    "# read in all the words\n",
    "words = open('names.txt', 'r').read().splitlines()\n",
    "words[:8]"
   ]
  },
  {
   "cell_type": "code",
   "execution_count": 3,
   "metadata": {},
   "outputs": [
    {
     "name": "stdout",
     "output_type": "stream",
     "text": [
      "{1: 'a', 2: 'b', 3: 'c', 4: 'd', 5: 'e', 6: 'f', 7: 'g', 8: 'h', 9: 'i', 10: 'j', 11: 'k', 12: 'l', 13: 'm', 14: 'n', 15: 'o', 16: 'p', 17: 'q', 18: 'r', 19: 's', 20: 't', 21: 'u', 22: 'v', 23: 'w', 24: 'x', 25: 'y', 26: 'z', 0: '.'}\n"
     ]
    }
   ],
   "source": [
    "# build the vocabulary of characters and mappings to/from integers\n",
    "chars = sorted(list(set(''.join(words))))\n",
    "stoi = {s:i+1 for i,s in enumerate(chars)}\n",
    "stoi['.'] = 0\n",
    "itos = {i:s for s,i in stoi.items()}\n",
    "print(itos)"
   ]
  },
  {
   "cell_type": "markdown",
   "metadata": {},
   "source": [
    "We introduce the **block size** (or **context length**) parameter telling us how many characters we use to predict the next, here 3. We store the **context** (=3 consecutive characters) in X and the labels (=the next character) in Y:"
   ]
  },
  {
   "cell_type": "code",
   "execution_count": 4,
   "metadata": {},
   "outputs": [
    {
     "name": "stdout",
     "output_type": "stream",
     "text": [
      "emma\n",
      "... ---> e\n",
      "..e ---> m\n",
      ".em ---> m\n",
      "emm ---> a\n",
      "mma ---> .\n",
      "olivia\n",
      "... ---> o\n",
      "..o ---> l\n",
      ".ol ---> i\n",
      "oli ---> v\n",
      "liv ---> i\n",
      "ivi ---> a\n",
      "via ---> .\n",
      "ava\n",
      "... ---> a\n",
      "..a ---> v\n",
      ".av ---> a\n",
      "ava ---> .\n",
      "isabella\n",
      "...truncated..."
     ]
    }
   ],
   "source": [
    "# build the dataset\n",
    "\n",
    "block_size = 3 # context length: how many characters do we take to predict the next one?\n",
    "\n",
    "def build_dataset(words):\n",
    "    X, Y = [], []\n",
    "    for w in words:\n",
    "    \n",
    "        print(w)\n",
    "        context = [0] * block_size # [0, 0, 0] (pad with zeros='.')\n",
    "        for ch in w + '.':\n",
    "            ix = stoi[ch]\n",
    "            X.append(context) # input\n",
    "            Y.append(ix) # labels\n",
    "            print(''.join(itos[i] for i in context), '--->', itos[ix]) # 'emma' contains 5 training examples\n",
    "            context = context[1:] + [ix] # crop and append (rolling window of context) e.g. [0, 0, 5], then [0, 5, 13]..\n",
    "    \n",
    "    X = torch.tensor(X)\n",
    "    Y = torch.tensor(Y)\n",
    "    print(X.shape, Y.shape)\n",
    "    return X, Y\n",
    "\n",
    "\n",
    "X, Y = build_dataset(words[:5]) # let's just work on a small dataset of 5 names for now"
   ]
  },
  {
   "cell_type": "code",
   "execution_count": 5,
   "metadata": {},
   "outputs": [
    {
     "data": {
      "text/plain": [
       "(torch.Size([32, 3]), torch.int64, torch.Size([32]), torch.int64)"
      ]
     },
     "execution_count": 5,
     "metadata": {},
     "output_type": "execute_result"
    }
   ],
   "source": [
    "X.shape, X.dtype, Y.shape, Y.dtype # we generated 32 training examples out of the 5 first words, each has 3 characters"
   ]
  },
  {
   "cell_type": "markdown",
   "metadata": {},
   "source": [
    "## 3. Implementing the Neural Net\n",
    "\n",
    "Now let's build the *embedding table C*. In the paper, they have 17 000 words and they embed them in a comparably small 30 dimensional space. In our case, we have only 27 possible characters, so let's embed them in a comparably small space - let's start with a two-dimensional space:"
   ]
  },
  {
   "cell_type": "code",
   "execution_count": 6,
   "metadata": {},
   "outputs": [],
   "source": [
    "g = torch.Generator().manual_seed(42) # for reproducibility\n",
    "C = torch.randn((27, 2), generator=g)"
   ]
  },
  {
   "cell_type": "markdown",
   "metadata": {},
   "source": [
    "We visualize the 2D embeddings of all characters (which are untrained yet, just randomly initialized). Remember that they start anywhere in embedding space and move around during training, clustering in some meaningful way."
   ]
  },
  {
   "cell_type": "code",
   "execution_count": 7,
   "metadata": {},
   "outputs": [
    {
     "data": {
      "image/png": "[encoded data removed]",
      "text/plain": [
       "<Figure size 800x800 with 1 Axes>"
      ]
     },
     "metadata": {},
     "output_type": "display_data"
    }
   ],
   "source": [
    "# visualize dimensions 0 and 1 of the embedding matrix C for all characters\n",
    "plt.figure(figsize=(8,8))\n",
    "plt.scatter(C[:,0].data, C[:,1].data, s=200)\n",
    "for i in range(C.shape[0]):\n",
    "    plt.text(C[i,0].item(), C[i,1].item(), itos[i], ha=\"center\", va=\"center\", color='white')\n",
    "plt.grid('minor')"
   ]
  },
  {
   "cell_type": "markdown",
   "metadata": {},
   "source": [
    "There are two methods to pluck out the 5th row:"
   ]
  },
  {
   "cell_type": "markdown",
   "metadata": {},
   "source": [
    "Option 1 - Directly plucking the embeddings from C:"
   ]
  },
  {
   "cell_type": "code",
   "execution_count": 8,
   "metadata": {},
   "outputs": [
    {
     "data": {
      "text/plain": [
       "tensor([-0.3925, -1.4036])"
      ]
     },
     "execution_count": 8,
     "metadata": {},
     "output_type": "execute_result"
    }
   ],
   "source": [
    "C[5]"
   ]
  },
  {
   "cell_type": "markdown",
   "metadata": {},
   "source": [
    "Option 2 - Calculating the one-hot encoding of 5 and multiplying it with the embedding matrix:"
   ]
  },
  {
   "cell_type": "code",
   "execution_count": 9,
   "metadata": {},
   "outputs": [],
   "source": [
    "F.one_hot(torch.tensor([5]), num_classes=27)"
   ]
  },
  {
   "cell_type": "code",
   "execution_count": 10,
   "metadata": {},
   "outputs": [
    {
     "data": {
      "text/plain": [
       "tensor([[-0.3925, -1.4036]])"
      ]
     },
     "execution_count": 10,
     "metadata": {},
     "output_type": "execute_result"
    }
   ],
   "source": [
    "F.one_hot(torch.tensor([5]), num_classes=27).float() @ C # note that we need to convert the one-hot to float from int to match the type of C"
   ]
  },
  {
   "cell_type": "markdown",
   "metadata": {},
   "source": [
    "Therefore, we can either think of the embedding as an integer indexing into a lookup table C, or as a first layer of the neural net with weight matrix C (without nonlinearity), where we encode integers into one-hot vectors and feed them in. Here, we are going to use the first interpretation with indexing because it is faster. But how can we simultaneously index all 32x3 integers stored in X? Luckily, we can also index with a list or tensor in PyTorch:"
   ]
  },
  {
   "cell_type": "code",
   "execution_count": 11,
   "metadata": {},
   "outputs": [
    {
     "data": {
      "text/plain": [
       "(tensor([[-0.7521,  1.6487],\n",
       "         [-0.7521,  1.6487],\n",
       "         [-0.3925, -1.4036]]),\n",
       " tensor([[-0.7521,  1.6487],\n",
       "         [-0.7521,  1.6487],\n",
       "         [-0.3925, -1.4036]]))"
      ]
     },
     "execution_count": 11,
     "metadata": {},
     "output_type": "execute_result"
    }
   ],
   "source": [
    "C[[4,4,5]], C[torch.tensor([4,4,5])] # indexing with a list or tensor of indices"
   ]
  },
  {
   "cell_type": "code",
   "execution_count": 12,
   "metadata": {},
   "outputs": [
    {
     "data": {
      "text/plain": [
       "(tensor(1), tensor([ 0.9007, -2.1055]), tensor([ 0.9007, -2.1055]))"
      ]
     },
     "execution_count": 12,
     "metadata": {},
     "output_type": "execute_result"
    }
   ],
   "source": [
    "X[13,2], C[X][13,2], C[1] # another example for indexing"
   ]
  },
  {
   "cell_type": "code",
   "execution_count": 13,
   "metadata": {},
   "outputs": [
    {
     "data": {
      "text/plain": [
       "torch.Size([32, 3, 2])"
      ]
     },
     "execution_count": 13,
     "metadata": {},
     "output_type": "execute_result"
    }
   ],
   "source": [
    "emb = C[X] # we can even directly use the tensor X to index into C\n",
    "emb.shape # shape of the embeddings - we need to flatten them for the hidden layer"
   ]
  },
  {
   "cell_type": "markdown",
   "metadata": {},
   "source": [
    "**TODO (optional):** Why is the shape of the embedding 32x3x2?"
   ]
  },
  {
   "cell_type": "markdown",
   "metadata": {},
   "source": [
    "**ANSWER:** \n",
    "The shape of the embedding emb is 32x3x2 because:\n",
    "\n",
    "- 32: This is the number of examples in the dataset X. Each example represents a context of characters.\n",
    "- 3: This is the context length (block_size), which indicates how many characters are used to predict the next one. In this case, the block_size is 3.\n",
    "- 2: This is the number of features in the embedding matrix C. Each row in C represents a character and has 2 features.\n",
    "\n",
    "When we execute C[X], each character in the context is replaced by its corresponding embedding. Since X has the shape (32, 3) and C has the shape (27, 2), C[X] results in the shape (32, 3, 2)."
   ]
  },
  {
   "cell_type": "markdown",
   "metadata": {},
   "source": [
    "Here is a visualization of our embedding of input '.em' (actually 3 embeddings, each token plucks out the corresponding row of C independently):\n",
    "\n",
    "<img src=\"img/MLP1.jpg\" width=\"400\">\n"
   ]
  },
  {
   "cell_type": "markdown",
   "metadata": {},
   "source": [
    "Now let's implement the *hidden layer* of size 100 (a design choice). We start by initializing weights and biases:"
   ]
  },
  {
   "cell_type": "code",
   "execution_count": 14,
   "metadata": {},
   "outputs": [],
   "source": [
    "W1 = torch.randn((6, 100)) # 6 = block_size * emb_dim = 3 * 2, 100 = hidden size (design choice)\n",
    "b1 = torch.randn(100) # bias for the hidden layer"
   ]
  },
  {
   "cell_type": "markdown",
   "metadata": {},
   "source": [
    "We calculate the weighted sum (**logits**) and apply the **tanh() activation**: "
   ]
  },
  {
   "cell_type": "code",
   "execution_count": 15,
   "metadata": {},
   "outputs": [],
   "source": [
    "logits = emb.view(-1, 6) @ W1 + b1 # reshaping the embeddings to (batch_size, block_size * emb_dim) and applying the linear layer"
   ]
  },
  {
   "cell_type": "code",
   "execution_count": 16,
   "metadata": {},
   "outputs": [],
   "source": [
    "h = torch.tanh(logits) # apply tanh activation"
   ]
  },
  {
   "cell_type": "code",
   "execution_count": 17,
   "metadata": {},
   "outputs": [],
   "source": [
    "h"
   ]
  },
  {
   "cell_type": "code",
   "execution_count": 18,
   "metadata": {},
   "outputs": [
    {
     "data": {
      "text/plain": [
       "torch.Size([32, 100])"
      ]
     },
     "execution_count": 18,
     "metadata": {},
     "output_type": "execute_result"
    }
   ],
   "source": [
    "h.shape"
   ]
  },
  {
   "cell_type": "markdown",
   "metadata": {},
   "source": [
    "Here is a visualization of our hidden layer after flattening the embedding:\n",
    "\n",
    "<img src=\"img/MLP2.jpg\" width=\"700\">"
   ]
  },
  {
   "cell_type": "markdown",
   "metadata": {},
   "source": [
    "And the *output layer*:"
   ]
  },
  {
   "cell_type": "code",
   "execution_count": 19,
   "metadata": {},
   "outputs": [
    {
     "name": "stdout",
     "output_type": "stream",
     "text": [
      "tensor([[ 1.8770,  0.9237, -1.0040,  ..., -0.3145,  1.0061, -0.5347],\n",
      "        [-1.0067, -0.0308,  1.8133,  ..., -0.8896, -1.6704, -0.9865],\n",
      "        [ 0.3107,  0.5558,  0.4097,  ...,  1.2207,  0.7545, -0.6213],\n",
      "        ...,\n",
      "        [-0.1550,  1.0090,  0.4623,  ..., -0.4764,  0.8481,  1.0267],\n",
      "        [ 2.0631,  0.8216, -0.1671,  ..., -0.2536,  0.0621,  0.9305],\n",
      "        [-0.6627, -0.5174, -0.0130,  ..., -1.1271, -0.4265,  1.2204]])\n",
      "tensor([ 0.1987, -1.0425,  0.2437, -0.8766,  0.9437,  0.0426,  0.2838, -0.4403,\n",
      "         0.3755,  1.8296, -0.8599, -0.2614, -1.3058,  0.0976,  0.4677, -0.0184,\n",
      "         0.1505, -2.4974, -0.4194, -0.7672,  0.5859, -1.2380,  0.3298, -0.1125,\n",
      "         0.8877,  0.2525,  0.0338])\n"
     ]
    }
   ],
   "source": [
    "W2 = torch.randn((100, 27)) # 100 = hidden size, 27 = vocab size\n",
    "b2 = torch.randn(27)\n",
    "print(W2)\n",
    "print(b2)"
   ]
  },
  {
   "cell_type": "markdown",
   "metadata": {},
   "source": [
    "**TODO:** 3a) Calculate the logits (weighted sum) with input `h`, weights `W2` and bias `b2`. Store the result in `logits`. What is the shape of the output and why? **(3 points)**"
   ]
  },
  {
   "cell_type": "code",
   "execution_count": 20,
   "metadata": {},
   "outputs": [
    {
     "name": "stdout",
     "output_type": "stream",
     "text": [
      "Logits: tensor([[ 5.8636e+00,  7.5580e-01,  1.9294e+00,  6.3613e+00, -1.0576e+01,\n",
      "          6.1022e+00, -2.3862e+00, -5.3747e+00, -8.4565e+00, -1.5330e+01,\n",
      "          1.6783e+01,  2.2608e+00, -5.2444e+00,  2.3100e+00,  6.5188e+00,\n",
      "         -1.4921e+00,  2.6113e+00,  3.8025e+00, -1.6415e+01,  7.5550e-01,\n",
      "         -7.8111e+00, -9.5759e+00, -4.6794e+00,  1.6634e+01,  9.5468e+00,\n",
      "          1.0558e+01, -9.2662e+00],\n",
      "        [ 5.7929e+00,  5.7800e+00, -4.6364e+00,  1.8596e+00, -1.0374e+00,\n",
      "          8.9760e+00,  3.0109e+00, -8.8267e+00,  2.1796e-01, -1.4150e+01,\n",
      "          6.7740e+00, -3.6404e+00, -5.3284e+00, -3.7103e+00, -1.2881e+01,\n",
      "          7.7390e-01, -4.9831e-01, -6.3980e-01, -7.0465e+00,  8.9352e+00,\n",
      "          7.5856e+00, -1.6123e+01,  8.4585e+00,  2.8439e+01,  1.9258e+01,\n",
      "          1.5235e+00, -9.9501e+00],\n",
      "        [ 8.5527e+00,  1.5973e+00,  2.8514e+00,  7.0990e+00, -9.6598e-01,\n",
      "         -3.1645e+00,  8.2829e+00, -1.4740e+01, -3.9475e+00, -1.2960e+00,\n",
      "          2.4873e+01, -1.3161e+00, -4.8724e+00,  6.1573e-01, -1.7991e+00,\n",
      "          2.4502e+00,  1.1718e+01, -1.3061e+01, -7.0040e+00,  5.5177e+00,\n",
      "          3.8376e-01, -5.4924e+00, -2.7891e+00,  1.1973e+01,  4.4562e-01,\n",
      "          7.4205e+00, -5.5282e+00],\n",
      "        [-3.2771e+00, -9.3079e+00,  2.6736e+00, -1.3528e+01, -9.8779e+00,\n",
      "          1.0785e+01, -1.3344e+01,  4.0207e+00, -1.5420e+01, -1.0480e+01,\n",
      "...truncated..."
     ]
    }
   ],
   "source": [
    "# YOUR CODE GOES HERE\n",
    "logits = h @ W2 + b2 # ((32,100)x(100,27) + (27))\n",
    "print(\"Logits:\", logits)\n",
    "print(\"Shape of logits:\", logits.shape)\n"
   ]
  },
  {
   "cell_type": "markdown",
   "metadata": {},
   "source": [
    "**ANSWER:** \n",
    "Because in hidden layer we have 32 data and for each data we have 100D representation,and we have W with shape (100,27). When we multiply our new input layer with weights (32,100)x(100,27), the output layer would be in shape (32,27) and adding bias is a scalar operation which doesnt change the shape of the output layer."
   ]
  },
  {
   "cell_type": "markdown",
   "metadata": {},
   "source": [
    "**TODO:** 3b) Calculate the counts by exponentating the logits and store the result in `counts`, then normalize to get probabilities and store the result in `prob`. **(2 points)** \n",
    "\n",
    "**HINT:** Remember the bigram model!"
   ]
  },
  {
   "cell_type": "code",
   "execution_count": 21,
   "metadata": {},
   "outputs": [
    {
     "name": "stdout",
     "output_type": "stream",
     "text": [
      "torch.Size([32, 27])\n",
      "Probabilities: tensor([[9.7096e-06, 5.8736e-08, 1.8993e-07, 1.5972e-05, 7.0432e-13, 1.2325e-05,\n",
      "         2.5371e-09, 1.2778e-10, 5.8623e-12, 6.0671e-15, 5.3636e-01, 2.6457e-07,\n",
      "         1.4557e-10, 2.7791e-07, 1.8696e-05, 6.2038e-09, 3.7560e-07, 1.2361e-06,\n",
      "         2.0489e-15, 5.8719e-08, 1.1177e-11, 1.9138e-12, 2.5612e-10, 4.6213e-01,\n",
      "         3.8618e-04, 1.0615e-03, 2.6085e-12],\n",
      "        [1.4615e-10, 1.4428e-10, 4.3193e-15, 2.8615e-12, 1.5792e-13, 3.5253e-09,\n",
      "         9.0483e-12, 6.5398e-17, 5.5414e-13, 3.1904e-19, 3.8982e-10, 1.1694e-14,\n",
      "         2.1622e-15, 1.0904e-14, 1.1350e-18, 9.6619e-13, 2.7074e-13, 2.3502e-13,\n",
      "         3.8789e-16, 3.3842e-09, 8.7770e-10, 4.4362e-20, 2.1012e-09, 9.9990e-01,\n",
      "         1.0298e-04, 2.0446e-12, 2.1267e-17],\n",
      "        [8.1659e-08, 7.7860e-11, 2.7288e-10, 1.9084e-08, 5.9990e-12, 6.6567e-13,\n",
      "         6.2348e-08, 6.2528e-18, 3.0423e-13, 4.3129e-12, 1.0000e+00, 4.2269e-12,\n",
      "         1.2065e-13, 2.9175e-11, 2.6077e-12, 1.8268e-10, 1.9358e-06, 3.3530e-17,\n",
      "         1.4315e-14, 3.9255e-09, 2.3135e-11, 6.4907e-14, 9.6897e-13, 2.4961e-06,\n",
      "         2.4611e-11, 2.6321e-08, 6.2623e-14],\n",
      "        [4.6901e-08, 1.1272e-10, 1.8010e-05, 1.6575e-12, 6.3751e-11, 6.0042e-02,\n",
      "         1.9905e-12, 6.9270e-05, 2.4982e-13, 3.4897e-11, 2.4472e-05, 1.6824e-07,\n",
      "         1.2495e-10, 5.3509e-06, 9.0292e-01, 1.5013e-05, 1.5191e-07, 3.2967e-03,\n",
      "         3.9554e-14, 3.3508e-04, 4.1348e-12, 3.2783e-06, 3.5633e-07, 2.8928e-02,\n",
      "...truncated..."
     ]
    }
   ],
   "source": [
    "# YOUR CODE GOES HERE\n",
    "counts = torch.exp(logits)\n",
    "prob = counts / counts.sum(dim=1, keepdims=True)\n",
    "print(prob.shape)\n",
    "print(\"Probabilities:\", prob)"
   ]
  },
  {
   "cell_type": "markdown",
   "metadata": {},
   "source": [
    "This is a visualization of our complete MLP:\n",
    "\n",
    "<img src=\"img/MLP3.jpg\" width=\"800\">"
   ]
  },
  {
   "cell_type": "markdown",
   "metadata": {},
   "source": [
    "Finally we calculate the cross entropy loss:"
   ]
  },
  {
   "cell_type": "code",
   "execution_count": 22,
   "metadata": {},
   "outputs": [
    {
     "data": {
      "text/plain": [
       "tensor(19.1771)"
      ]
     },
     "execution_count": 22,
     "metadata": {},
     "output_type": "execute_result"
    }
   ],
   "source": [
    "loss = -prob[torch.arange(len(Y)), Y].log().mean() # cross-entropy loss\n",
    "loss"
   ]
  },
  {
   "cell_type": "markdown",
   "metadata": {},
   "source": [
    "## 4. Training the MLP"
   ]
  },
  {
   "cell_type": "markdown",
   "metadata": {},
   "source": [
    "Let's summarize the code so far and train the network! We summarize all trainable parameters in a list called `parameters`:"
   ]
  },
  {
   "cell_type": "code",
   "execution_count": 23,
   "metadata": {},
   "outputs": [],
   "source": [
    "g = torch.Generator().manual_seed(42) # for reproducibility\n",
    "C = torch.randn((27, 2), generator=g)\n",
    "W1 = torch.randn((6, 100), generator=g)\n",
    "b1 = torch.randn(100, generator=g)\n",
    "W2 = torch.randn((100, 27), generator=g)\n",
    "b2 = torch.randn(27, generator=g)\n",
    "parameters = [C, W1, b1, W2, b2] # cluster all parameters in one list for counting the number of parameters"
   ]
  },
  {
   "cell_type": "code",
   "execution_count": 24,
   "metadata": {},
   "outputs": [
    {
     "data": {
      "text/plain": [
       "3481"
      ]
     },
     "execution_count": 24,
     "metadata": {},
     "output_type": "execute_result"
    }
   ],
   "source": [
    "sum(p.nelement() for p in parameters) # number of parameters in total"
   ]
  },
  {
   "cell_type": "code",
   "execution_count": 25,
   "metadata": {},
   "outputs": [],
   "source": [
    "for p in parameters:\n",
    "    p.requires_grad = True "
   ]
  },
  {
   "cell_type": "markdown",
   "metadata": {},
   "source": [
    "**TODO:** 4a) Research why we need to set `requires_grad = True`, e.g. in the PyTorch documentation! **(1 point)** "
   ]
  },
  {
   "cell_type": "markdown",
   "metadata": {},
   "source": [
    "**ANSWER:** \n",
    "When `requires_grad = True`, PyTorch tracks all operations on this tensor to calculate the gradients during the backpropagation: These gradients are then used to update the parameters in `p` in the direction of the gradient descent."
   ]
  },
  {
   "cell_type": "markdown",
   "metadata": {},
   "source": [
    "**TODO:** 4b) In the code block below, try to understand what each line of code does, and comment each line! **(3 points)**"
   ]
  },
  {
   "cell_type": "code",
   "execution_count": 26,
   "metadata": {},
   "outputs": [
    {
     "name": "stdout",
     "output_type": "stream",
     "text": [
      "17.775842666625977\n",
      "14.432573318481445\n",
      "12.249408721923828\n",
      "10.555495262145996\n",
      "9.166698455810547\n",
      "8.059216499328613\n",
      "7.099236965179443\n",
      "6.237092018127441\n",
      "5.497320175170898\n",
      "4.880398750305176\n",
      "4.3454132080078125\n",
      "3.8748481273651123\n",
      "3.4561686515808105\n",
      "3.079040050506592\n",
      "2.730928897857666\n",
      "2.4046106338500977\n",
      "2.101841688156128\n",
      "1.8323787450790405\n",
      "1.6064157485961914\n",
      "1.4234545230865479\n",
      "...truncated..."
     ]
    }
   ],
   "source": [
    "# YOUR COMMENTS GO HERE\n",
    "\n",
    "niter = 1000 #number of iterations for training\n",
    "\n",
    "for i in range(niter): \n",
    "\n",
    "    # forward pass\n",
    "    emb = C[X] # for each iteration create an embedding layer for all blocks\n",
    "    h = torch.tanh(emb.view(-1, 6) @ W1 + b1) # flatten it, calculate weighted sum and by using tanh activation function,calculate the values for the hidden layer\n",
    "    logits = h @ W2 + b2 # by using the hidden layer as an input, now  calculate a weighted sum for the output layer\n",
    "    loss = F.cross_entropy(logits, Y) # calculate the cross entropy loss between logits and true labels y\n",
    "    \n",
    "    # backward pass\n",
    "    for p in parameters: \n",
    "        p.grad = None # clears the gradients of the model's parameters, removes any gradient values left over from the previous training step. \n",
    "    loss.backward()  # computes the gradient of the loss function with respect to each parameter through backpropagation\n",
    "    \n",
    "    # update\n",
    "    for p in parameters: \n",
    "        p.data += -0.1 * p.grad # updates each parameter by subtracting calculated gradients values with 0.1 learning rate\n",
    "\n",
    "    print(loss.item()) # prints the loss tensor values"
   ]
  },
  {
   "cell_type": "markdown",
   "metadata": {},
   "source": [
    "**TODO:** 4c) Can you interpret the loss - why is it so small? **(2 points)**\n",
    "\n",
    "**HINT:** Is a small training loss always a good sign, or should we consider other factors as well?"
   ]
  },
  {
   "cell_type": "markdown",
   "metadata": {},
   "source": [
    "**ANSWER:**   A small loss indicates a great learning rate and a good number of itterations and is usually a good sign but It can also be a sign for overfitting."
   ]
  },
  {
   "cell_type": "markdown",
   "metadata": {},
   "source": [
    "**TODO:** 4d) Can we reach a loss of exactly 0 when continuing optimization? Why or why not? **(2 points)**"
   ]
  },
  {
   "cell_type": "markdown",
   "metadata": {},
   "source": [
    "**ANSWER:** We can't reach a loss of exactly 0 because language modeling is probabilistic, the model has limited capacity, cross-entropy loss never becomes 0 due to probabilities, and optimization or data noise prevents perfect predictions."
   ]
  },
  {
   "cell_type": "markdown",
   "metadata": {},
   "source": [
    "Summing all steps in a visualization, including cross entropy loss calculation:\n",
    "\n",
    "\n",
    "<img src=\"img/MLP4.jpg\" width=\"900\">"
   ]
  },
  {
   "cell_type": "markdown",
   "metadata": {},
   "source": [
    "---\n",
    "\n",
    "## 5. Training on Mini-Batches"
   ]
  },
  {
   "cell_type": "markdown",
   "metadata": {},
   "source": [
    "**TODO:** 5a) Read in the whole dataset for training instead of the first 5 words and store the inputs and labels in X and Y again! How many training examples do we have now roughly? **(2 points)** \n",
    "\n",
    "**HINT:** Use the `build_dataset()` function defined above!"
   ]
  },
  {
   "cell_type": "code",
   "execution_count": 27,
   "metadata": {},
   "outputs": [
    {
     "name": "stdout",
     "output_type": "stream",
     "text": [
      "emma\n",
      "... ---> e\n",
      "..e ---> m\n",
      ".em ---> m\n",
      "emm ---> a\n",
      "mma ---> .\n",
      "olivia\n",
      "... ---> o\n",
      "..o ---> l\n",
      ".ol ---> i\n",
      "oli ---> v\n",
      "liv ---> i\n",
      "ivi ---> a\n",
      "via ---> .\n",
      "ava\n",
      "... ---> a\n",
      "..a ---> v\n",
      ".av ---> a\n",
      "ava ---> .\n",
      "isabella\n",
      "...truncated..."
     ]
    }
   ],
   "source": [
    "# YOUR CODE GOES HERE\n",
    "X,Y = build_dataset(words)\n",
    "print(X.shape , Y.shape)\n"
   ]
  },
  {
   "cell_type": "markdown",
   "metadata": {},
   "source": [
    "**ANSWER:** In the actual dataset names.txt, the total number of contexts generated is 228146, which means the combined length of all names in the dataset results in this number of contexts when using a block_size of 3."
   ]
  },
  {
   "cell_type": "markdown",
   "metadata": {},
   "source": [
    "In practice, it is too computationally expensive to forward and backward pass the whole training set at once. Instead, we use **mini-batches** of e.g. 32 randomly chosen examples processed in parallel. The quality of the gradient might be a little lower because we are not using all data, the direction of the gradient is not the exact actual direction, but it is good enough and we can simply calculate more steps to compensate this.   \n",
    "\n",
    "We can use `randint` for random sampling of the batch examples. Like this, we sample 32 random row indices of X (wicht is now of shape 228146 x 3):"
   ]
  },
  {
   "cell_type": "code",
   "execution_count": 28,
   "metadata": {},
   "outputs": [],
   "source": [
    "torch.randint(0, X.shape[0], (32,)) # example of sampling from a uniform distribution (low, high, shape)"
   ]
  },
  {
   "cell_type": "markdown",
   "metadata": {},
   "source": [
    "This is the training loop with random mini-batches of size 32:"
   ]
  },
  {
   "cell_type": "code",
   "execution_count": 29,
   "metadata": {},
   "outputs": [
    {
     "name": "stdout",
     "output_type": "stream",
     "text": [
      "10.387406349182129\n",
      "13.053986549377441\n",
      "9.804208755493164\n",
      "11.398539543151855\n",
      "8.367438316345215\n",
      "7.649349212646484\n",
      "10.547525405883789\n",
      "9.974981307983398\n",
      "9.609989166259766\n",
      "9.53652286529541\n",
      "8.27939224243164\n",
      "9.283623695373535\n",
      "10.240114212036133\n",
      "7.509037494659424\n",
      "7.361513614654541\n",
      "7.401601314544678\n",
      "6.334048748016357\n",
      "8.907212257385254\n",
      "7.320008277893066\n",
      "5.5575785636901855\n",
      "...truncated..."
     ]
    }
   ],
   "source": [
    "niter = 1000 # number of iterations\n",
    "\n",
    "for i in range(niter):\n",
    "    \n",
    "    # minibatch construct\n",
    "    ix = torch.randint(0, X.shape[0], (32,))\n",
    "    \n",
    "    # forward pass\n",
    "    emb = C[X[ix]] # (32, 3, 10)? 32,3,2\n",
    "    h = torch.tanh(emb.view(-1, 6) @ W1 + b1) # (32, 200) ? 32,100\n",
    "    logits = h @ W2 + b2 # (32, 27)\n",
    "    loss = F.cross_entropy(logits, Y[ix]) # instead of the manual computation above (more efficient and numerically stable)\n",
    "    print(loss.item())\n",
    "    \n",
    "    # backward pass\n",
    "    for p in parameters:\n",
    "        p.grad = None # reset the gradients\n",
    "    loss.backward() # compute the gradients\n",
    "    \n",
    "    # update\n",
    "    for p in parameters:\n",
    "        p.data += -0.1 * p.grad"
   ]
  },
  {
   "cell_type": "markdown",
   "metadata": {},
   "source": [
    "## 6. Tuning the Learning Rate"
   ]
  },
  {
   "cell_type": "markdown",
   "metadata": {},
   "source": [
    "The code blocks below summarize the code so far. For repeated execution, we write a function `trainloop()` that can be called with different numbers of iterations, learning rates etc:"
   ]
  },
  {
   "cell_type": "code",
   "execution_count": 30,
   "metadata": {},
   "outputs": [],
   "source": [
    "# reset the parameters\n",
    "g = torch.Generator().manual_seed(42) # for reproducibility\n",
    "C = torch.randn((27, 2), generator=g)\n",
    "W1 = torch.randn((6, 100), generator=g)\n",
    "b1 = torch.randn(100, generator=g)\n",
    "W2 = torch.randn((100, 27), generator=g)\n",
    "b2 = torch.randn(27, generator=g)\n",
    "parameters = [C, W1, b1, W2, b2] # cluster all parameters in one list for counting the number of parameters\n",
    "\n",
    "for p in parameters:\n",
    "    p.requires_grad = True # we want to learn the parameters\n",
    "    "
   ]
  },
  {
   "cell_type": "code",
   "execution_count": 31,
   "metadata": {},
   "outputs": [],
   "source": [
    "# define the training loop as a function\n",
    "def trainloop(niter, X, Y, parameters, lrs, output=True, emb_dim=2, context_length=3):  \n",
    "\n",
    "    # keep track of the losses and steps\n",
    "    lossi = []  \n",
    "    stepi = []\n",
    "    \n",
    "    for i in range(niter):\n",
    "        \n",
    "        # minibatch construct\n",
    "        ix = torch.randint(0, X.shape[0], (32,))\n",
    "        \n",
    "        # forward pass\n",
    "        emb = C[X[ix]] # (32, 3, 10)? 2\n",
    "        h = torch.tanh(emb.view(-1, emb_dim*context_length) @ W1 + b1) # (32, 200)\n",
    "        logits = h @ W2 + b2 # (32, 27)\n",
    "        loss = F.cross_entropy(logits, Y[ix]) # instead of the manual computation above (more efficient and numerically stable)\n",
    "        if output:\n",
    "            print(loss.item())\n",
    "        \n",
    "        # backward pass\n",
    "        for p in parameters:\n",
    "            p.grad = None # reset the gradients\n",
    "        loss.backward() # compute the gradients\n",
    "        \n",
    "        # update\n",
    "        lr = lrs[i]\n",
    "        for p in parameters:\n",
    "            p.data += -lr * p.grad\n",
    "\n",
    "        # track stats\n",
    "        stepi.append(i)\n",
    "        lossi.append(loss.log10().item())\n",
    "\n",
    "    return parameters, stepi, lossi"
   ]
  },
  {
   "cell_type": "code",
   "execution_count": 32,
   "metadata": {},
   "outputs": [
    {
     "name": "stdout",
     "output_type": "stream",
     "text": [
      "15.427766799926758\n",
      "13.775408744812012\n",
      "11.398277282714844\n",
      "11.550265312194824\n",
      "12.754717826843262\n",
      "13.796286582946777\n",
      "10.55596923828125\n",
      "11.49148941040039\n",
      "10.741220474243164\n",
      "12.743672370910645\n",
      "11.506134033203125\n",
      "7.532491683959961\n",
      "10.222014427185059\n",
      "11.218327522277832\n",
      "10.42318344116211\n",
      "9.22864818572998\n",
      "8.981110572814941\n",
      "8.208964347839355\n",
      "9.016417503356934\n",
      "8.569552421569824\n",
      "...truncated..."
     ]
    }
   ],
   "source": [
    "# define the hyperparameters and run the training loop\n",
    "niter = 1000 # number of iterations\n",
    "\n",
    "lrs = torch.full((niter,), 0.1) # learning rates = tensor of constant values (0.1) for all iterations\n",
    "\n",
    "parameters, stepi, lossi = trainloop(niter, X, Y, parameters, lrs) # run the training loop"
   ]
  },
  {
   "cell_type": "markdown",
   "metadata": {},
   "source": [
    "**TODO:** 6a) Experiment with different learning rates. Don't forget to reset the parameters first! Which learning rate seems to work best? Which learning rates are too high or too low? **(3 points)**"
   ]
  },
  {
   "cell_type": "code",
   "execution_count": 33,
   "metadata": {},
   "outputs": [
    {
     "name": "stdout",
     "output_type": "stream",
     "text": [
      "16.736488342285156\n",
      "13.620193481445312\n",
      "13.274978637695312\n",
      "14.744308471679688\n",
      "15.702707290649414\n",
      "12.305155754089355\n",
      "10.294249534606934\n",
      "11.231122016906738\n",
      "8.613259315490723\n",
      "8.862308502197266\n",
      "10.051679611206055\n",
      "6.934103488922119\n",
      "10.614493370056152\n",
      "9.752668380737305\n",
      "11.591850280761719\n",
      "6.959422588348389\n",
      "9.2140531539917\n",
      "8.47493839263916\n",
      "10.749691009521484\n",
      "7.59122896194458\n",
      "...truncated..."
     ]
    }
   ],
   "source": [
    "# YOUR EXPERIMENTS HERE\n",
    "# reset the parameters\n",
    "g = torch.Generator().manual_seed(42) # for reproducibility\n",
    "C = torch.randn((27, 2), generator=g)\n",
    "W1 = torch.randn((6, 100), generator=g)\n",
    "b1 = torch.randn(100, generator=g)\n",
    "W2 = torch.randn((100, 27), generator=g)\n",
    "b2 = torch.randn(27, generator=g)\n",
    "parameters = [C, W1, b1, W2, b2] # cluster all parameters in one list for counting the number of parameters\n",
    "\n",
    "for p in parameters:\n",
    "    p.requires_grad = True # we want to learn the parameters\n",
    "\n",
    "lrs = torch.full((niter,), 1)\n",
    "parameters, stepi, lossi = trainloop(niter, X, Y, parameters, lrs)"
   ]
  },
  {
   "cell_type": "code",
   "execution_count": 34,
   "metadata": {},
   "outputs": [
    {
     "name": "stdout",
     "output_type": "stream",
     "text": [
      "17.380922317504883\n",
      "18.230884552001953\n",
      "15.098654747009277\n",
      "17.996431350708008\n",
      "12.570591926574707\n",
      "15.815083503723145\n",
      "16.796924591064453\n",
      "18.71610450744629\n",
      "16.273319244384766\n",
      "17.3035831451416\n",
      "16.730833053588867\n",
      "16.222904205322266\n",
      "17.31536293029785\n",
      "15.629059791564941\n",
      "14.934259414672852\n",
      "15.407294273376465\n",
      "14.929421424865723\n",
      "15.743674278259277\n",
      "16.829980850219727\n",
      "17.698183059692383\n",
      "...truncated..."
     ]
    }
   ],
   "source": [
    "# YOUR EXPERIMENTS HERE\n",
    "# reset the parameters\n",
    "g = torch.Generator().manual_seed(42) # for reproducibility\n",
    "C = torch.randn((27, 2), generator=g)\n",
    "W1 = torch.randn((6, 100), generator=g)\n",
    "b1 = torch.randn(100, generator=g)\n",
    "W2 = torch.randn((100, 27), generator=g)\n",
    "b2 = torch.randn(27, generator=g)\n",
    "parameters = [C, W1, b1, W2, b2] # cluster all parameters in one list for counting the number of parameters\n",
    "\n",
    "for p in parameters:\n",
    "    p.requires_grad = True # we want to learn the parameters\n",
    "\n",
    "lrs = torch.full((niter,), 0.001)\n",
    "parameters, stepi, lossi = trainloop(niter, X, Y, parameters, lrs)\n"
   ]
  },
  {
   "cell_type": "code",
   "execution_count": 35,
   "metadata": {},
   "outputs": [
    {
     "name": "stdout",
     "output_type": "stream",
     "text": [
      "17.88709259033203\n",
      "17.247684478759766\n",
      "15.639723777770996\n",
      "15.34082317352295\n",
      "13.700202941894531\n",
      "12.42990493774414\n",
      "10.037654876708984\n",
      "13.683521270751953\n",
      "13.314544677734375\n",
      "12.758869171142578\n",
      "10.763583183288574\n",
      "8.411131858825684\n",
      "8.912544250488281\n",
      "8.995594024658203\n",
      "10.168986320495605\n",
      "10.51961898803711\n",
      "7.769402980804443\n",
      "7.525182247161865\n",
      "9.064567565917969\n",
      "7.437386989593506\n",
      "...truncated..."
     ]
    }
   ],
   "source": [
    "# YOUR EXPERIMENTS HERE\n",
    "# reset the parameters\n",
    "g = torch.Generator().manual_seed(42) # for reproducibility\n",
    "C = torch.randn((27, 2), generator=g)\n",
    "W1 = torch.randn((6, 100), generator=g)\n",
    "b1 = torch.randn(100, generator=g)\n",
    "W2 = torch.randn((100, 27), generator=g)\n",
    "b2 = torch.randn(27, generator=g)\n",
    "parameters = [C, W1, b1, W2, b2] # cluster all parameters in one list for counting the number of parameters\n",
    "\n",
    "for p in parameters:\n",
    "    p.requires_grad = True # we want to learn the parameters\n",
    "\n",
    "lrs = torch.full((niter,), 0.09)\n",
    "parameters, stepi, lossi = trainloop(niter, X, Y, parameters, lrs)"
   ]
  },
  {
   "cell_type": "markdown",
   "metadata": {},
   "source": [
    "**ANSWER:** 1 or higher learning rates are too large,model probably missed the local minima. 0.01 or lower rates are too small, model probably couldn't reach the local minima in niter step. Learning rates around 0.1 ( ie. 0.09) look like a better option when we check the loss."
   ]
  },
  {
   "cell_type": "markdown",
   "metadata": {},
   "source": [
    "We can make the search more systematic using **grid search** techniques:"
   ]
  },
  {
   "cell_type": "code",
   "execution_count": 36,
   "metadata": {},
   "outputs": [],
   "source": [
    "# systematically test different learning rates (logarithmically spaced between 1e-3 and 1)\n",
    "lre = torch.linspace(-3, 0, 1000) # lre = learning rate exponent = log10(learning rate)\n",
    "lrs = 10**lre"
   ]
  },
  {
   "cell_type": "code",
   "execution_count": 37,
   "metadata": {},
   "outputs": [
    {
     "name": "stdout",
     "output_type": "stream",
     "text": [
      "15.917977333068848\n",
      "15.994047164916992\n",
      "15.209294319152832\n",
      "16.573200225830078\n",
      "17.601064682006836\n",
      "17.05906867980957\n",
      "17.44671058654785\n",
      "16.642803192138672\n",
      "16.11324691772461\n",
      "14.065044403076172\n",
      "15.380486488342285\n",
      "16.32643699645996\n",
      "15.272849082946777\n",
      "16.22369384765625\n",
      "16.77284812927246\n",
      "16.531007766723633\n",
      "18.68752670288086\n",
      "14.285012245178223\n",
      "17.1718692779541\n",
      "17.375411987304688\n",
      "...truncated..."
     ]
    }
   ],
   "source": [
    "# reset the parameters\n",
    "g = torch.Generator().manual_seed(42) # for reproducibility\n",
    "C = torch.randn((27, 2), generator=g)\n",
    "W1 = torch.randn((6, 100), generator=g)\n",
    "b1 = torch.randn(100, generator=g)\n",
    "W2 = torch.randn((100, 27), generator=g)\n",
    "b2 = torch.randn(27, generator=g)\n",
    "parameters = [C, W1, b1, W2, b2] # cluster all parameters in one list\n",
    "\n",
    "for p in parameters:\n",
    "    p.requires_grad = True # we want to learn the parameters\n",
    "    \n",
    "\n",
    "parameters, stepi, lossi = trainloop(niter, X, Y, parameters, lrs) # run the training loop"
   ]
  },
  {
   "cell_type": "markdown",
   "metadata": {},
   "source": [
    "**TODO:** 6b) Plot the loss over the different learning rate exponents. Which learning rate should we use? **(2 points)**"
   ]
  },
  {
   "cell_type": "code",
   "execution_count": 38,
   "metadata": {},
   "outputs": [
    {
     "data": {
      "image/png": "[encoded data removed]",
      "text/plain": [
       "<Figure size 640x480 with 1 Axes>"
      ]
     },
     "metadata": {},
     "output_type": "display_data"
    }
   ],
   "source": [
    "# YOUR CODE GOES HERE\n",
    "plt.plot(lre, lossi)\n",
    "plt.xlabel('Learning Rate Exponent')\n",
    "plt.ylabel('Final Loss')\n",
    "plt.title('Loss vs. Learning Rate Exponents')\n",
    "plt.grid(True)\n",
    "plt.show()"
   ]
  },
  {
   "cell_type": "markdown",
   "metadata": {},
   "source": [
    "**ANSWER:** -0.75 learning rate exponent looks the best option. Which means: 10**(-0.75)=0.177 learning rate"
   ]
  },
  {
   "cell_type": "markdown",
   "metadata": {},
   "source": [
    "Now that we have found a good learning rate, let's only do one step of **learning rate decay** and run for a very long time. This is how you would roughly proceed in production as well: Find a good learning rate via grid search, train with it until the loss reaches a plateau, then decrease the learning rate some more and see if the loss goes down again. "
   ]
  },
  {
   "cell_type": "code",
   "execution_count": 39,
   "metadata": {},
   "outputs": [],
   "source": [
    "# reset the parameters\n",
    "g = torch.Generator().manual_seed(42) # for reproducibility\n",
    "C = torch.randn((27, 2), generator=g)\n",
    "W1 = torch.randn((6, 100), generator=g)\n",
    "b1 = torch.randn(100, generator=g)\n",
    "W2 = torch.randn((100, 27), generator=g)\n",
    "b2 = torch.randn(27, generator=g)\n",
    "parameters = [C, W1, b1, W2, b2] # cluster all parameters in one list for counting the number of parameters\n",
    "\n",
    "for p in parameters:\n",
    "    p.requires_grad = True # we want to learn the parameters"
   ]
  },
  {
   "cell_type": "code",
   "execution_count": 40,
   "metadata": {},
   "outputs": [],
   "source": [
    "niter = 100000 # number of iterations\n",
    "\n",
    "lrs = torch.full((niter,), 0.1) # learning rates = tensor of constant values (0.1) for the first 50 000 iterations\n",
    "lrs[50000:] = 0.01 # learning rates = tensor of constant values (0.01) for the remaining 50 000 iterations\n",
    "\n",
    "parameters, stepi, lossi = trainloop(niter, X, Y, parameters, lrs, output=False) # run the training loop"
   ]
  },
  {
   "cell_type": "code",
   "execution_count": 41,
   "metadata": {},
   "outputs": [
    {
     "data": {
      "text/plain": [
       "tensor(2.2851, grad_fn=<NllLossBackward0>)"
      ]
     },
     "execution_count": 41,
     "metadata": {},
     "output_type": "execute_result"
    }
   ],
   "source": [
    "# evaluate loss\n",
    "emb = C[X] # (32, 3, 2)\n",
    "h = torch.tanh(emb.view(-1, 6) @ W1 + b1) # (32, 100)\n",
    "logits = h @ W2 + b2 # (32, 27)\n",
    "loss = F.cross_entropy(logits, Y)\n",
    "loss"
   ]
  },
  {
   "cell_type": "markdown",
   "metadata": {},
   "source": [
    "We see that the loss is at 2.29, which is already better than the bigram model from the last notebook, which was 2.45! \n",
    "\n",
    "...except that this is not exactly true: The loss on the training data could become very small only due to overfitting. The model could only memorize the training data and perform very good on these, but poorly once you test it with new data. Therefore, the data is usually split in 3 parts: The **training data** (e.g. 80%) is used for parameter optimization like we did above using gradient descent. The **validation data** or **dev data** (e.g. 10%) is used for tuning hyperparameters (e.g. size of the hidden layer, size of the embedding, learning rate...) and the **test data set** (e.g. 10%) is kept aside to measure the final performance and generalization capabilities of the model. The test set should only be used once because each time you evaluate on the test set and learn something from it, you basically train on the test set, so you also risk overfitting to your test set and will not be able to measure generalization capabilities anymore. So let's implement this:"
   ]
  },
  {
   "cell_type": "markdown",
   "metadata": {},
   "source": [
    "## 7. Train-Valid-Test-Split"
   ]
  },
  {
   "cell_type": "markdown",
   "metadata": {},
   "source": [
    "**TODO:** 7a) Split the data in 80% training data stored in `Xtr`, `Ytr`, 10% dev data stored in `Xdev`, `Ydev` and 10% test data stored in `Xte`, `Yte`. Don't forget to randomly shuffle the words first. **(3 points)**\n",
    "\n",
    "**HINT:** You can use `random.shuffle` to shuffle the words. Then, create the data splits and call `build_dataset()` with the created subsets."
   ]
  },
  {
   "cell_type": "code",
   "execution_count": 42,
   "metadata": {},
   "outputs": [
    {
     "name": "stdout",
     "output_type": "stream",
     "text": [
      "ayomide\n",
      "... ---> a\n",
      "..a ---> y\n",
      ".ay ---> o\n",
      "ayo ---> m\n",
      "yom ---> i\n",
      "omi ---> d\n",
      "mid ---> e\n",
      "ide ---> .\n",
      "odyssey\n",
      "... ---> o\n",
      "..o ---> d\n",
      ".od ---> y\n",
      "ody ---> s\n",
      "dys ---> s\n",
      "yss ---> e\n",
      "sse ---> y\n",
      "sey ---> .\n",
      "flavia\n",
      "... ---> f\n",
      "...truncated..."
     ]
    }
   ],
   "source": [
    "# YOUR CODE GOES HERE\n",
    "# randomly shuffle the words\n",
    "random.shuffle(words)  # Shuffle the words randomly\n",
    "\n",
    "# Split into 80% training, 10% development, and 10% test\n",
    "train_words = words[:int(0.8 * len(words))]\n",
    "dev_words = words[int(0.8 * len(words)):int(0.9 * len(words))]\n",
    "test_words = words[int(0.9 * len(words)):]\n",
    "\n",
    "# Build datasets for each split\n",
    "Xtr, Ytr = build_dataset(train_words)\n",
    "Xdev, Ydev = build_dataset(dev_words)\n",
    "Xte, Yte = build_dataset(test_words)\n",
    "\n",
    "# Print the sizes of the splits\n",
    "print(f\"Training set size: {Xtr.shape[0]}\")\n",
    "print(f\"Development set size: {Xdev.shape[0]}\")\n",
    "print(f\"Test set size: {Xte.shape[0]}\")"
   ]
  },
  {
   "cell_type": "markdown",
   "metadata": {},
   "source": [
    "**TODO**: 7b) Train the model on the training data only, then evaluate on the train data and the dev data for comparison. Don't forget to reset the parameters first! **(3 points)**"
   ]
  },
  {
   "cell_type": "code",
   "execution_count": 43,
   "metadata": {},
   "outputs": [
    {
     "name": "stdout",
     "output_type": "stream",
     "text": [
      "Training Loss: 2.2825\n",
      "Development Loss: 2.2956\n"
     ]
    }
   ],
   "source": [
    "# YOUR CODE GOES HERE\n",
    "g = torch.Generator().manual_seed(42) # for reproducibility\n",
    "C = torch.randn((27, 2), generator=g)\n",
    "W1 = torch.randn((6, 100), generator=g)\n",
    "b1 = torch.randn(100, generator=g)\n",
    "W2 = torch.randn((100, 27), generator=g)\n",
    "b2 = torch.randn(27, generator=g)\n",
    "parameters = [C, W1, b1, W2, b2] # cluster all parameters in one list for counting the number of parameters\n",
    "\n",
    "for p in parameters:\n",
    "    p.requires_grad = True # we want to learn the parameters\n",
    "\n",
    "niter = 100000 # number of iterations\n",
    "\n",
    "lrs = torch.full((niter,), 0.1) # learning rates = tensor of constant values (0.1) for the first 50 000 iterations\n",
    "lrs[50000:] = 0.01 # learning rates = tensor of constant values (0.01) for the remaining 50 000 iterations\n",
    "\n",
    "parameters, stepi, lossi = trainloop(niter, Xtr, Ytr, parameters, lrs, output=False) # run the training loop\n",
    "\n",
    "\n",
    "# evaluate loss for training data\n",
    "emb_tr = C[Xtr] # (32, 3, 2)\n",
    "h_tr = torch.tanh(emb_tr.view(-1, 6) @ W1 + b1) # (32, 100)\n",
    "logits_tr = h_tr @ W2 + b2 # (32, 27)\n",
    "loss_tr = F.cross_entropy(logits_tr, Ytr)\n",
    "\n",
    "# evaluate loss for development data\n",
    "emb_dev = C[Xdev] # (32, 3, 2)\n",
    "h_dev = torch.tanh(emb_dev.view(-1, 6) @ W1 + b1) # (32, 100)\n",
    "logits_dev = h_dev @ W2 + b2 # (32, 27)\n",
    "loss_dev = F.cross_entropy(logits_dev, Ydev)\n",
    "\n",
    "print(f\"Training Loss: {loss_tr.item():.4f}\")\n",
    "print(f\"Development Loss: {loss_dev.item():.4f}\")"
   ]
  },
  {
   "cell_type": "markdown",
   "metadata": {},
   "source": [
    "**TODO:** 7c) How do you interpret the train versus dev loss? **(1 point)**"
   ]
  },
  {
   "cell_type": "markdown",
   "metadata": {},
   "source": [
    "**ANSWER:**  Dev loss is higher than train loss which is understandable because model have seen the train data before, but not the validation data. Additionally, the small gap between training loss and dev loss indicates no overfitting.\n",
    " "
   ]
  },
  {
   "cell_type": "markdown",
   "metadata": {},
   "source": [
    "---\n",
    "\n",
    "## 8. Experiment: Larger Hidden Layer"
   ]
  },
  {
   "cell_type": "markdown",
   "metadata": {},
   "source": [
    "**TODO:** 8a) Experiment with a hidden layer of size 300 and train for a long time. Plot the loss over the steps (not the learning rate this time!). We are expecting to further decrease the training loss because we have a more powerful network now. Can we achieve this? **(3 points)**"
   ]
  },
  {
   "cell_type": "code",
   "execution_count": 44,
   "metadata": {},
   "outputs": [
    {
     "name": "stdout",
     "output_type": "stream",
     "text": [
      "34.0537223815918\n",
      "24.141265869140625\n",
      "24.394527435302734\n",
      "21.658418655395508\n",
      "15.647573471069336\n",
      "22.252897262573242\n",
      "22.52055549621582\n",
      "20.22591781616211\n",
      "16.766881942749023\n",
      "18.237930297851562\n",
      "15.998733520507812\n",
      "9.190446853637695\n",
      "23.14169692993164\n",
      "16.185285568237305\n",
      "16.29927635192871\n",
      "13.21138858795166\n",
      "11.635815620422363\n",
      "14.37590503692627\n",
      "11.671236038208008\n",
      "10.453657150268555\n",
      "...truncated..."
     ]
    }
   ],
   "source": [
    "# YOUR CODE GOES HERE\n",
    "hidden_size = 300\n",
    "g = torch.Generator().manual_seed(42) # for reproducibility\n",
    "C = torch.randn((27, 2), generator=g)\n",
    "W1 = torch.randn((6, hidden_size), generator=g)\n",
    "b1 = torch.randn(hidden_size, generator=g)\n",
    "W2 = torch.randn((hidden_size, 27), generator=g)\n",
    "b2 = torch.randn(27, generator=g)\n",
    "parameters = [C, W1, b1, W2, b2]\n",
    "\n",
    "for p in parameters:\n",
    "    p.requires_grad = True # we want to learn the parameters\n",
    "    \n",
    "# learning_rate = 0.1\n",
    "# lrs = torch.full((niter,), learning_rate)\n",
    "\n",
    "parameters, stepi, lossi = trainloop(niter, X, Y, parameters, lrs) # run the training loop"
   ]
  },
  {
   "cell_type": "code",
   "execution_count": 45,
   "metadata": {},
   "outputs": [
    {
     "data": {
      "image/png": "[encoded data removed]",
      "text/plain": [
       "<Figure size 640x480 with 1 Axes>"
      ]
     },
     "metadata": {},
     "output_type": "display_data"
    }
   ],
   "source": [
    "# YOUR CODE GOES HERE\n",
    "plt.plot(stepi, lossi, label=\"Training Loss\")\n",
    "plt.xlabel('Training Step')\n",
    "plt.ylabel('Final Loss')\n",
    "plt.title(\"Loss vs. Training Steps (Hidden Size = 300)\")\n",
    "plt.grid(True)\n",
    "plt.show()"
   ]
  },
  {
   "cell_type": "markdown",
   "metadata": {},
   "source": [
    "**ANSWER:** We can not achieve this because more complex model might lead to overfit. As we can see loss didnt decrease under 0.2, it is about 2.28 which is almost same as previous model's."
   ]
  },
  {
   "cell_type": "markdown",
   "metadata": {},
   "source": [
    "**TODO:** 8b) Why is the loss so noisy, not decreasing monotonically? **(1 point)**"
   ]
  },
  {
   "cell_type": "markdown",
   "metadata": {},
   "source": [
    "**ANSWER:** Because we are training with-mini Batches. Loss depends on the data in related batches. Unlike the classical method, it does not find the steepest slope, but finds a slope based on the items in the batch."
   ]
  },
  {
   "cell_type": "markdown",
   "metadata": {},
   "source": [
    "## 9. Visualization of the Embedding\n",
    "\n",
    "The training loss is not really decreasing with increased hidden layer. It could be that the bottleneck of the network right now are the embeddings that are twodimensional. Intuitively: We are cramming too many characters into just two dimensions and the neural net is not able to use that space effectively. Let's visualize the embeddings for a better understanding:"
   ]
  },
  {
   "cell_type": "code",
   "execution_count": 46,
   "metadata": {},
   "outputs": [
    {
     "data": {
      "image/png": "[encoded data removed]",
      "text/plain": [
       "<Figure size 800x800 with 1 Axes>"
      ]
     },
     "metadata": {},
     "output_type": "display_data"
    }
   ],
   "source": [
    "# visualize dimensions 0 and 1 of the embedding matrix C for all characters\n",
    "plt.figure(figsize=(8,8))\n",
    "plt.scatter(C[:,0].data, C[:,1].data, s=200)\n",
    "for i in range(C.shape[0]):\n",
    "    plt.text(C[i,0].item(), C[i,1].item(), itos[i], ha=\"center\", va=\"center\", color='white')\n",
    "plt.grid('minor')"
   ]
  },
  {
   "cell_type": "markdown",
   "metadata": {},
   "source": [
    "**TODO:** 9) Can you interpret the embedding plot? Do you see some structure that the network has learned, or is it purely random - especially compared to our initial plot above? **(2 points)**"
   ]
  },
  {
   "cell_type": "markdown",
   "metadata": {},
   "source": [
    "**ANSWER:**  We can say that the network has learned some structures. In the first plot, all the dots were randomly distributed, but in this plot, some letters became closer because the network noticed that these letters came after each other more often."
   ]
  },
  {
   "cell_type": "markdown",
   "metadata": {},
   "source": [
    "## 10. Increasing the Embedding Dimension"
   ]
  },
  {
   "cell_type": "markdown",
   "metadata": {},
   "source": [
    "**TODO:** 10a) Change the dimension of the embedding to 10 and re-run the training loop. **(2 points)** \n",
    "\n",
    "**HINT:** Note that the embedding dimension can be passed as input into `train_loop()`!"
   ]
  },
  {
   "cell_type": "code",
   "execution_count": 47,
   "metadata": {},
   "outputs": [],
   "source": [
    "# YOUR CODE GOES HERE\n",
    "embedding_dim = 10\n",
    "context_length = 3\n",
    "g = torch.Generator().manual_seed(42) # for reproducibility\n",
    "C = torch.randn((27, embedding_dim), generator=g)\n",
    "W1 = torch.randn((embedding_dim * context_length, hidden_size), generator=g)\n",
    "b1 = torch.randn(hidden_size, generator=g)\n",
    "W2 = torch.randn((hidden_size, 27), generator=g)\n",
    "b2 = torch.randn(27, generator=g)\n",
    "parameters = [C, W1, b1, W2, b2]\n",
    "\n",
    "for p in parameters:\n",
    "    p.requires_grad = True # we want to learn the parameters\n",
    "    \n",
    "parameters, stepi, lossi = trainloop(niter, Xtr, Ytr, parameters, lrs,emb_dim=10,output=False)\n"
   ]
  },
  {
   "cell_type": "code",
   "execution_count": 48,
   "metadata": {},
   "outputs": [
    {
     "name": "stdout",
     "output_type": "stream",
     "text": [
      "train loss: tensor(2.1819, grad_fn=<NllLossBackward0>)\n",
      "dev loss: tensor(2.2276, grad_fn=<NllLossBackward0>)\n"
     ]
    }
   ],
   "source": [
    "# evaluate losses on training and dev sets\n",
    "emb = C[Xtr] # (32, 3, 2)\n",
    "h = torch.tanh(emb.view(-1, 30) @ W1 + b1) # (32, 100)\n",
    "logits = h @ W2 + b2 # (32, 27)\n",
    "loss = F.cross_entropy(logits, Ytr)\n",
    "print('train loss:', loss)\n",
    "\n",
    "emb = C[Xdev] # (32, 3, 2)\n",
    "h = torch.tanh(emb.view(-1, 30) @ W1 + b1) # (32, 100)\n",
    "logits = h @ W2 + b2 # (32, 27)\n",
    "loss = F.cross_entropy(logits, Ydev)\n",
    "print('dev loss:', loss)"
   ]
  },
  {
   "cell_type": "markdown",
   "metadata": {},
   "source": [
    "Note that we are optimizing the model by hand here for educational purposes - in production, you would create hyperparameters and use grid search for a more systematic search."
   ]
  },
  {
   "cell_type": "markdown",
   "metadata": {},
   "source": [
    "**TODO:** 10b) How do you interpret train and dev losses now? **(1 point)**"
   ]
  },
  {
   "cell_type": "markdown",
   "metadata": {},
   "source": [
    "**ANSWER:** The reduction in training loss means, that our model's capacity to learn more complex patterns has improved with the introduction of the hidden layer.\n",
    "\n",
    "The reduction in development loss means, that the model's ability to generalize to unseen data has improved.\n",
    "\n",
    "The relatively small gap between training loss and development loss indicates that the model is not overfitting."
   ]
  },
  {
   "cell_type": "markdown",
   "metadata": {},
   "source": [
    "## 11. Final Evaluation and Sampling from the Model"
   ]
  },
  {
   "cell_type": "markdown",
   "metadata": {},
   "source": [
    "Once we have found a set of promising hyperparameters, we evaluate on the test set *once* and get the final loss to report in a paper for example. Then we can generate new samples using the model:"
   ]
  },
  {
   "cell_type": "code",
   "execution_count": 49,
   "metadata": {},
   "outputs": [
    {
     "name": "stdout",
     "output_type": "stream",
     "text": [
      "ellane.\n",
      "yara.\n",
      "elyn.\n",
      "suberto.\n",
      "blyn.\n",
      "jehley.\n",
      "daleigh.\n",
      "koria.\n",
      "ekna.\n",
      "azeir.\n",
      "keann.\n",
      "leha.\n",
      "evakon.\n",
      "kagi.\n",
      "ana.\n",
      "avirackillineca.\n",
      "jhevikchir.\n",
      "jed.\n",
      "jayeol.\n",
      "nayah.\n",
      "...truncated..."
     ]
    }
   ],
   "source": [
    "# sample from the model\n",
    "g = torch.Generator().manual_seed(42 + 10)\n",
    "\n",
    "for _ in range(20):\n",
    "    \n",
    "    out = []\n",
    "    context = [0] * block_size # initialize with all ... as context\n",
    "    while True:\n",
    "        emb = C[torch.tensor([context])] # (1,block_size,d)\n",
    "        h = torch.tanh(emb.view(1, -1) @ W1 + b1)\n",
    "        logits = h @ W2 + b2\n",
    "        probs = F.softmax(logits, dim=1)\n",
    "        ix = torch.multinomial(probs, num_samples=1, generator=g).item() # get next index by sampling\n",
    "        context = context[1:] + [ix] # update context\n",
    "        out.append(ix) # store the output\n",
    "        if ix == 0:\n",
    "            break\n",
    "    \n",
    "    print(''.join(itos[i] for i in out))"
   ]
  },
  {
   "cell_type": "markdown",
   "metadata": {},
   "source": [
    "We see that the output looks a lot more like names now, we are making progress :-)"
   ]
  },
  {
   "cell_type": "markdown",
   "metadata": {},
   "source": [
    "## 12. Challenge\n",
    "\n",
    "**TODO (optional):** Try to beat the final validation loss above! Here are some suggestions to further improve the results:\n",
    "\n",
    "- change the number of neurons in the hidden layer\n",
    "- change the dimensionality of the embedding lookup table \n",
    "- change the number of characters that are feeding in as an input \n",
    "- change the details of the optimization: number of iterations, learning rate (decay)... \n",
    "- change the batch size \n",
    "- read the original paper (you should be able to understand large parts of it now and this paper also has a few ideas for improvements that you can play with)\n",
    "- ...\n",
    "\n",
    "Write in the answer cell below what you tried and whether it helped. What is your best validation loss?"
   ]
  },
  {
   "cell_type": "markdown",
   "metadata": {},
   "source": [
    "**ANSWER:**"
   ]
  },
  {
   "cell_type": "code",
   "execution_count": null,
   "metadata": {},
   "outputs": [
    {
     "name": "stdout",
     "output_type": "stream",
     "text": [
      "ayomide\n",
      "...... ---> a\n",
      ".....a ---> y\n",
      "....ay ---> o\n",
      "...ayo ---> m\n",
      "..ayom ---> i\n",
      ".ayomi ---> d\n",
      "ayomid ---> e\n",
      "yomide ---> .\n",
      "odyssey\n",
      "...... ---> o\n",
      ".....o ---> d\n",
      "....od ---> y\n",
      "...ody ---> s\n",
      "..odys ---> s\n",
      ".odyss ---> e\n",
      "odysse ---> y\n",
      "dyssey ---> .\n",
      "flavia\n",
      "...... ---> f\n",
      "...truncated..."
     ]
    }
   ],
   "source": [
    "block_size = 6\n",
    "Xtr, Ytr = build_dataset(train_words)\n",
    "Xdev, Ydev = build_dataset(dev_words)\n",
    "Xte, Yte = build_dataset(test_words)\n",
    "\n",
    "\n",
    "g = torch.Generator().manual_seed(42) # for reproducibility\n",
    "C = torch.randn((27, 100), generator=g)\n",
    "W1 = torch.randn((600, 60), generator=g)\n",
    "b1 = torch.randn(60, generator=g)\n",
    "W2 = torch.randn((60, 27), generator=g)\n",
    "b2 = torch.randn(27, generator=g)\n",
    "parameters = [C, W1, b1, W2, b2]\n",
    "\n",
    "for p in parameters:\n",
    "    p.requires_grad = True # we want to learn the parameters\n",
    "    \n",
    "parameters, stepi, lossi = trainloop(niter, Xtr, Ytr, parameters, lrs,emb_dim=100,output=False,context_length=6)\n",
    "\n",
    "emb = C[Xtr] # (32, 3, 2)\n",
    "h = torch.tanh(emb.view(-1, 600) @ W1 + b1) # (32, 100)\n",
    "logits = h @ W2 + b2 # (32, 27)\n",
    "loss = F.cross_entropy(logits, Ytr)\n",
    "print('train loss:', loss)\n",
    "\n",
    "emb = C[Xdev] # (32, 3, 2)\n",
    "h = torch.tanh(emb.view(-1, 600) @ W1 + b1) # (32, 100)\n",
    "logits = h @ W2 + b2 # (32, 27)\n",
    "loss = F.cross_entropy(logits, Ydev)\n",
    "print('dev loss:', loss)\n"
   ]
  },
  {
   "cell_type": "markdown",
   "metadata": {},
   "source": [
    "(For this part we tried a couple of thing but we didnt continue to do it.)"
   ]
  },
  {
   "cell_type": "code",
   "execution_count": 53,
   "metadata": {},
   "outputs": [
    {
     "name": "stdout",
     "output_type": "stream",
     "text": [
      "Output in 2_MLP_Language_Model__student.ipynb above threshold seen and so a NEW version has been made: `TRUNCATED_2_MLP_Language_Model__student.ipynb`.\n"
     ]
    },
    {
     "name": "stderr",
     "output_type": "stream",
     "text": [
      "[NbConvertApp] Converting notebook TRUNCATED_2_MLP_Language_Model__student.ipynb to webpdf\n",
      "[NbConvertApp] WARNING | Alternative text is missing on 10 image(s).\n",
      "[NbConvertApp] Building PDF\n",
      "[NbConvertApp] PDF successfully created\n",
      "[NbConvertApp] Writing 425548 bytes to TRUNCATED_2_MLP_Language_Model__student.pdf\n"
     ]
    }
   ],
   "source": [
    "# This cell truncates long output to a maximum length, then converts the notebook to a PDF\n",
    "# NOTE: You may have to adapt the path or filename to match your local setup\n",
    "\n",
    "import sys\n",
    "import os\n",
    "\n",
    "# Add the parent directory to the sys.path\n",
    "sys.path.append(os.path.abspath(os.path.join('..')))\n",
    "\n",
    "# truncate long cell output to avoid large pdf files\n",
    "from helpers.truncate_output import truncate_long_notebook_output\n",
    "truncated = truncate_long_notebook_output('2_MLP_Language_Model__student.ipynb')\n",
    "\n",
    "# convert to pdf with nbconvert\n",
    "if truncated:\n",
    "    !jupyter nbconvert --to webpdf --allow-chromium-download TRUNCATED_2_MLP_Language_Model__student.ipynb\n",
    "else:\n",
    "    !jupyter nbconvert --to webpdf --allow-chromium-download 2_MLP_Language_Model__student.ipynb"
   ]
  },
  {
   "cell_type": "code",
   "execution_count": null,
   "metadata": {},
   "outputs": [],
   "source": []
  }
 ],
 "metadata": {
  "kernelspec": {
   "display_name": ".venv",
   "language": "python",
   "name": "python3"
  },
  "language_info": {
   "codemirror_mode": {
    "name": "ipython",
    "version": 3
   },
   "file_extension": ".py",
   "mimetype": "text/x-python",
   "name": "python",
   "nbconvert_exporter": "python",
   "pygments_lexer": "ipython3",
   "version": "3.12.7"
  }
 },
 "nbformat": 4,
 "nbformat_minor": 4
}
